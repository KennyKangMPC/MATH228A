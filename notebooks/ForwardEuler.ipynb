{
 "cells": [
  {
   "cell_type": "markdown",
   "metadata": {},
   "source": [
    "Consider the initial value problem\n",
    "$$\n",
    "\\begin{split}\n",
    "u'_{1} &= u_{1},\\\\\n",
    "u'_{2} &= u_{1} - u_{2},\\\\\n",
    "\\end{split}\n",
    "$$\n",
    "with initial condition $(u_{1}(0),u_{2}(0))=(1,1)$.\n",
    "\n",
    "Solve $u(T=1)$ with the forward Euler method and verify the convergence rate."
   ]
  },
  {
   "cell_type": "code",
   "execution_count": 1,
   "metadata": {},
   "outputs": [
    {
     "name": "stdout",
     "output_type": "stream",
     "text": [
      "dt = 0.001 ueuler = [2.716923932235896, 1.5434839246936745] err = 0.0014165185769650964\n"
     ]
    }
   ],
   "source": [
    "using LinearAlgebra\n",
    "\n",
    "function ForwardEuler(N,T,u0)\n",
    "    u = copy(u0)\n",
    "    unew = copy(u0)\n",
    "    dt = T/N\n",
    "    for i = 1 : N\n",
    "        unew[1] = u[1] + dt * u[1]\n",
    "        unew[2] = u[2] + dt * (u[1] - u[2])\n",
    "        u = unew\n",
    "    end\n",
    "    return u\n",
    "end\n",
    "\n",
    "u0 = [1.0,1.0]\n",
    "uexact = [exp(1), 0.5*(exp(1)+exp(-1))]\n",
    "N = 1000\n",
    "ueuler = ForwardEuler(N,1.0,u0)\n",
    "\n",
    "# norm(v) ≡ norm(v,2), the 2-norm\n",
    "\n",
    "println(\"dt = \", 1.0/N, \" ueuler = \", ueuler, \" err = \", norm(ueuler-uexact,2)) "
   ]
  },
  {
   "cell_type": "markdown",
   "metadata": {},
   "source": [
    "Check the convergence rate"
   ]
  },
  {
   "cell_type": "code",
   "execution_count": 2,
   "metadata": {},
   "outputs": [
    {
     "data": {
      "image/png": "[encoded data removed]",
      "text/plain": [
       "Figure(PyObject <Figure size 400x400 with 1 Axes>)"
      ]
     },
     "metadata": {},
     "output_type": "display_data"
    },
    {
     "data": {
      "text/plain": [
       "PyObject <matplotlib.legend.Legend object at 0x000000002FBDE908>"
      ]
     },
     "execution_count": 2,
     "metadata": {},
     "output_type": "execute_result"
    }
   ],
   "source": [
    "NList = 2 .^(5:10)\n",
    "errEulerList = zeros(size(NList))\n",
    "for i = 1 : length(NList)\n",
    "    N = NList[i]\n",
    "    ueuler = ForwardEuler(N,1.0,u0)\n",
    "    errEulerList[i] = norm(ueuler-uexact)\n",
    "end\n",
    "\n",
    "using PyPlot\n",
    "figure(1,figsize=(4,4))\n",
    "loglog(NList, errEulerList, \"b-o\", label=\"Euler\")\n",
    "\n",
    "# String starting with letter \"L\" for latex\n",
    "xlabel(L\"N\")\n",
    "ylabel(L\"||u-u^*||_2\")\n",
    "legend()\n",
    "\n"
   ]
  },
  {
   "cell_type": "code",
   "execution_count": 3,
   "metadata": {},
   "outputs": [
    {
     "name": "stdout",
     "output_type": "stream",
     "text": [
      "Slope for Euler = 0.9920887005180262\n"
     ]
    }
   ],
   "source": [
    "slopeEuler = -(log(errEulerList[end])-log(errEulerList[1])) / \n",
    "(log(NList[end]) - log(NList[1]))\n",
    "\n",
    "println(\"Slope for Euler = \", slopeEuler )"
   ]
  }
 ],
 "metadata": {
  "kernelspec": {
   "display_name": "Julia 1.2.0",
   "language": "julia",
   "name": "julia-1.2"
  },
  "language_info": {
   "file_extension": ".jl",
   "mimetype": "application/julia",
   "name": "julia",
   "version": "1.2.0"
  }
 },
 "nbformat": 4,
 "nbformat_minor": 4
}
